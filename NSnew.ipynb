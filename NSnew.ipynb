{
 "cells": [
  {
   "cell_type": "code",
   "execution_count": 30,
   "metadata": {},
   "outputs": [],
   "source": [
    "import pandas as pd\n",
    "import numpy as np\n",
    "import matplotlib.pyplot as plt\n",
    "import seaborn as sns\n",
    "\n",
    "# For display of multiple variables\n",
    "from IPython.core.interactiveshell import InteractiveShell\n",
    "\n",
    "InteractiveShell.ast_node_interactivity = \"all\"\n"
   ]
  },
  {
   "cell_type": "code",
   "execution_count": 56,
   "metadata": {},
   "outputs": [
    {
     "data": {
      "text/html": [
       "<div>\n",
       "<style scoped>\n",
       "    .dataframe tbody tr th:only-of-type {\n",
       "        vertical-align: middle;\n",
       "    }\n",
       "\n",
       "    .dataframe tbody tr th {\n",
       "        vertical-align: top;\n",
       "    }\n",
       "\n",
       "    .dataframe thead th {\n",
       "        text-align: right;\n",
       "    }\n",
       "</style>\n",
       "<table border=\"1\" class=\"dataframe\">\n",
       "  <thead>\n",
       "    <tr style=\"text-align: right;\">\n",
       "      <th></th>\n",
       "      <th>Name</th>\n",
       "      <th>Author</th>\n",
       "      <th>User Rating</th>\n",
       "      <th>Reviews</th>\n",
       "      <th>Price</th>\n",
       "      <th>Year</th>\n",
       "      <th>Genre</th>\n",
       "    </tr>\n",
       "  </thead>\n",
       "  <tbody>\n",
       "    <tr>\n",
       "      <th>0</th>\n",
       "      <td>Cutting for Stone</td>\n",
       "      <td>Abraham Verghese</td>\n",
       "      <td>4.6</td>\n",
       "      <td>4866</td>\n",
       "      <td>11</td>\n",
       "      <td>2010</td>\n",
       "      <td>Fiction</td>\n",
       "    </tr>\n",
       "    <tr>\n",
       "      <th>1</th>\n",
       "      <td>Cutting for Stone</td>\n",
       "      <td>Abraham Verghese</td>\n",
       "      <td>4.6</td>\n",
       "      <td>4866</td>\n",
       "      <td>11</td>\n",
       "      <td>2011</td>\n",
       "      <td>Fiction</td>\n",
       "    </tr>\n",
       "    <tr>\n",
       "      <th>2</th>\n",
       "      <td>Milk and Vine: Inspirational Quotes From Classic Vines</td>\n",
       "      <td>Adam Gasiewski</td>\n",
       "      <td>4.4</td>\n",
       "      <td>3113</td>\n",
       "      <td>6</td>\n",
       "      <td>2017</td>\n",
       "      <td>Non Fiction</td>\n",
       "    </tr>\n",
       "    <tr>\n",
       "      <th>3</th>\n",
       "      <td>Go the F**k to Sleep</td>\n",
       "      <td>Adam Mansbach</td>\n",
       "      <td>4.8</td>\n",
       "      <td>9568</td>\n",
       "      <td>9</td>\n",
       "      <td>2011</td>\n",
       "      <td>Fiction</td>\n",
       "    </tr>\n",
       "    <tr>\n",
       "      <th>4</th>\n",
       "      <td>What Should Danny Do? (The Power to Choose Series)</td>\n",
       "      <td>Adir Levy</td>\n",
       "      <td>4.8</td>\n",
       "      <td>8170</td>\n",
       "      <td>13</td>\n",
       "      <td>2019</td>\n",
       "      <td>Fiction</td>\n",
       "    </tr>\n",
       "  </tbody>\n",
       "</table>\n",
       "</div>"
      ],
      "text/plain": [
       "                                                     Name            Author  \\\n",
       "0                                       Cutting for Stone  Abraham Verghese   \n",
       "1                                       Cutting for Stone  Abraham Verghese   \n",
       "2  Milk and Vine: Inspirational Quotes From Classic Vines    Adam Gasiewski   \n",
       "3                                    Go the F**k to Sleep     Adam Mansbach   \n",
       "4      What Should Danny Do? (The Power to Choose Series)         Adir Levy   \n",
       "\n",
       "   User Rating  Reviews  Price  Year        Genre  \n",
       "0          4.6     4866     11  2010      Fiction  \n",
       "1          4.6     4866     11  2011      Fiction  \n",
       "2          4.4     3113      6  2017  Non Fiction  \n",
       "3          4.8     9568      9  2011      Fiction  \n",
       "4          4.8     8170     13  2019      Fiction  "
      ]
     },
     "execution_count": 56,
     "metadata": {},
     "output_type": "execute_result"
    }
   ],
   "source": [
    "df = pd.read_csv(\"data.csv\")\n",
    "df.head()"
   ]
  },
  {
   "cell_type": "code",
   "execution_count": 57,
   "metadata": {},
   "outputs": [
    {
     "name": "stdout",
     "output_type": "stream",
     "text": [
      "Number of duplicated books:  199\n",
      "The proportion of duplicated values:  0.36\n"
     ]
    },
    {
     "data": {
      "text/plain": [
       "False"
      ]
     },
     "execution_count": 57,
     "metadata": {},
     "output_type": "execute_result"
    }
   ],
   "source": [
    "# checking for duplicated values\n",
    "print(\"Number of duplicated books: \", df[['Name', \"Author\"]].duplicated().sum())\n",
    "print(\"The proportion of duplicated values: \", round(df[['Name', \"Author\"]].duplicated().mean(), 2))\n",
    "\n",
    "# dropping duplicates\n",
    "df.drop_duplicates(subset = ['Name', \"Author\"], inplace=True)\n",
    "\n",
    "# checking again\n",
    "df.duplicated().any()"
   ]
  },
  {
   "cell_type": "markdown",
   "metadata": {},
   "source": [
    "### Q1. Which authors had the highest user rating in 2010 and 2015?"
   ]
  },
  {
   "cell_type": "markdown",
   "metadata": {},
   "source": [
    "Top 5 rated author of 2010:"
   ]
  },
  {
   "cell_type": "code",
   "execution_count": 38,
   "metadata": {},
   "outputs": [
    {
     "data": {
      "text/html": [
       "<div>\n",
       "<style scoped>\n",
       "    .dataframe tbody tr th:only-of-type {\n",
       "        vertical-align: middle;\n",
       "    }\n",
       "\n",
       "    .dataframe tbody tr th {\n",
       "        vertical-align: top;\n",
       "    }\n",
       "\n",
       "    .dataframe thead th {\n",
       "        text-align: right;\n",
       "    }\n",
       "</style>\n",
       "<table border=\"1\" class=\"dataframe\">\n",
       "  <thead>\n",
       "    <tr style=\"text-align: right;\">\n",
       "      <th></th>\n",
       "      <th>Author</th>\n",
       "      <th>User Rating</th>\n",
       "    </tr>\n",
       "  </thead>\n",
       "  <tbody>\n",
       "    <tr>\n",
       "      <th>313</th>\n",
       "      <td>Laura Hillenbrand</td>\n",
       "      <td>4.8</td>\n",
       "    </tr>\n",
       "    <tr>\n",
       "      <th>411</th>\n",
       "      <td>Rick Riordan</td>\n",
       "      <td>4.8</td>\n",
       "    </tr>\n",
       "    <tr>\n",
       "      <th>265</th>\n",
       "      <td>Jeff Kinney</td>\n",
       "      <td>4.8</td>\n",
       "    </tr>\n",
       "    <tr>\n",
       "      <th>406</th>\n",
       "      <td>Rick Riordan</td>\n",
       "      <td>4.8</td>\n",
       "    </tr>\n",
       "    <tr>\n",
       "      <th>410</th>\n",
       "      <td>Rick Riordan</td>\n",
       "      <td>4.8</td>\n",
       "    </tr>\n",
       "  </tbody>\n",
       "</table>\n",
       "</div>"
      ],
      "text/plain": [
       "                Author  User Rating\n",
       "313  Laura Hillenbrand          4.8\n",
       "411       Rick Riordan          4.8\n",
       "265        Jeff Kinney          4.8\n",
       "406       Rick Riordan          4.8\n",
       "410       Rick Riordan          4.8"
      ]
     },
     "execution_count": 38,
     "metadata": {},
     "output_type": "execute_result"
    }
   ],
   "source": [
    "df_2010 = df[df['Year']==2010].sort_values(by = \"User Rating\", ascending = False)\n",
    "df_2010[['Author', 'User Rating']].head()"
   ]
  },
  {
   "cell_type": "markdown",
   "metadata": {},
   "source": [
    "Top 5 rated author of 2015:"
   ]
  },
  {
   "cell_type": "code",
   "execution_count": 39,
   "metadata": {},
   "outputs": [
    {
     "data": {
      "text/html": [
       "<div>\n",
       "<style scoped>\n",
       "    .dataframe tbody tr th:only-of-type {\n",
       "        vertical-align: middle;\n",
       "    }\n",
       "\n",
       "    .dataframe tbody tr th {\n",
       "        vertical-align: top;\n",
       "    }\n",
       "\n",
       "    .dataframe thead th {\n",
       "        text-align: right;\n",
       "    }\n",
       "</style>\n",
       "<table border=\"1\" class=\"dataframe\">\n",
       "  <thead>\n",
       "    <tr style=\"text-align: right;\">\n",
       "      <th></th>\n",
       "      <th>Author</th>\n",
       "      <th>User Rating</th>\n",
       "    </tr>\n",
       "  </thead>\n",
       "  <tbody>\n",
       "    <tr>\n",
       "      <th>163</th>\n",
       "      <td>Eric Carle</td>\n",
       "      <td>4.9</td>\n",
       "    </tr>\n",
       "    <tr>\n",
       "      <th>455</th>\n",
       "      <td>Sarah Young</td>\n",
       "      <td>4.9</td>\n",
       "    </tr>\n",
       "    <tr>\n",
       "      <th>57</th>\n",
       "      <td>Brandon Stanton</td>\n",
       "      <td>4.9</td>\n",
       "    </tr>\n",
       "    <tr>\n",
       "      <th>134</th>\n",
       "      <td>Dr. Seuss</td>\n",
       "      <td>4.9</td>\n",
       "    </tr>\n",
       "    <tr>\n",
       "      <th>211</th>\n",
       "      <td>Giles Andreae</td>\n",
       "      <td>4.8</td>\n",
       "    </tr>\n",
       "  </tbody>\n",
       "</table>\n",
       "</div>"
      ],
      "text/plain": [
       "              Author  User Rating\n",
       "163       Eric Carle          4.9\n",
       "455      Sarah Young          4.9\n",
       "57   Brandon Stanton          4.9\n",
       "134        Dr. Seuss          4.9\n",
       "211    Giles Andreae          4.8"
      ]
     },
     "execution_count": 39,
     "metadata": {},
     "output_type": "execute_result"
    }
   ],
   "source": [
    "df_2015 = df[df['Year']==2015].sort_values(by = \"User Rating\", ascending = False)\n",
    "df_2015[['Author', 'User Rating']].head()"
   ]
  },
  {
   "cell_type": "markdown",
   "metadata": {},
   "source": [
    "### Q2. Which are the first 10 best rated fiction books?"
   ]
  },
  {
   "cell_type": "code",
   "execution_count": 40,
   "metadata": {},
   "outputs": [
    {
     "data": {
      "text/html": [
       "<div>\n",
       "<style scoped>\n",
       "    .dataframe tbody tr th:only-of-type {\n",
       "        vertical-align: middle;\n",
       "    }\n",
       "\n",
       "    .dataframe tbody tr th {\n",
       "        vertical-align: top;\n",
       "    }\n",
       "\n",
       "    .dataframe thead th {\n",
       "        text-align: right;\n",
       "    }\n",
       "</style>\n",
       "<table border=\"1\" class=\"dataframe\">\n",
       "  <thead>\n",
       "    <tr style=\"text-align: right;\">\n",
       "      <th></th>\n",
       "      <th>Name</th>\n",
       "      <th>Author</th>\n",
       "      <th>User Rating</th>\n",
       "    </tr>\n",
       "  </thead>\n",
       "  <tbody>\n",
       "    <tr>\n",
       "      <th>98</th>\n",
       "      <td>Dog Man and Cat Kid: From the Creator of Capta...</td>\n",
       "      <td>Dav Pilkey</td>\n",
       "      <td>4.9</td>\n",
       "    </tr>\n",
       "    <tr>\n",
       "      <th>99</th>\n",
       "      <td>Dog Man: A Tale of Two Kitties: From the Creat...</td>\n",
       "      <td>Dav Pilkey</td>\n",
       "      <td>4.9</td>\n",
       "    </tr>\n",
       "    <tr>\n",
       "      <th>100</th>\n",
       "      <td>Dog Man: Brawl of the Wild: From the Creator o...</td>\n",
       "      <td>Dav Pilkey</td>\n",
       "      <td>4.9</td>\n",
       "    </tr>\n",
       "    <tr>\n",
       "      <th>101</th>\n",
       "      <td>Dog Man: Brawl of the Wild: From the Creator o...</td>\n",
       "      <td>Dav Pilkey</td>\n",
       "      <td>4.9</td>\n",
       "    </tr>\n",
       "    <tr>\n",
       "      <th>102</th>\n",
       "      <td>Dog Man: Fetch-22: From the Creator of Captain...</td>\n",
       "      <td>Dav Pilkey</td>\n",
       "      <td>4.9</td>\n",
       "    </tr>\n",
       "    <tr>\n",
       "      <th>103</th>\n",
       "      <td>Dog Man: For Whom the Ball Rolls: From the Cre...</td>\n",
       "      <td>Dav Pilkey</td>\n",
       "      <td>4.9</td>\n",
       "    </tr>\n",
       "    <tr>\n",
       "      <th>104</th>\n",
       "      <td>Dog Man: Lord of the Fleas: From the Creator o...</td>\n",
       "      <td>Dav Pilkey</td>\n",
       "      <td>4.9</td>\n",
       "    </tr>\n",
       "    <tr>\n",
       "      <th>133</th>\n",
       "      <td>Oh, the Places You'll Go!</td>\n",
       "      <td>Dr. Seuss</td>\n",
       "      <td>4.9</td>\n",
       "    </tr>\n",
       "    <tr>\n",
       "      <th>167</th>\n",
       "      <td>The Very Hungry Caterpillar</td>\n",
       "      <td>Eric Carle</td>\n",
       "      <td>4.9</td>\n",
       "    </tr>\n",
       "    <tr>\n",
       "      <th>164</th>\n",
       "      <td>The Very Hungry Caterpillar</td>\n",
       "      <td>Eric Carle</td>\n",
       "      <td>4.9</td>\n",
       "    </tr>\n",
       "  </tbody>\n",
       "</table>\n",
       "</div>"
      ],
      "text/plain": [
       "                                                  Name      Author  \\\n",
       "98   Dog Man and Cat Kid: From the Creator of Capta...  Dav Pilkey   \n",
       "99   Dog Man: A Tale of Two Kitties: From the Creat...  Dav Pilkey   \n",
       "100  Dog Man: Brawl of the Wild: From the Creator o...  Dav Pilkey   \n",
       "101  Dog Man: Brawl of the Wild: From the Creator o...  Dav Pilkey   \n",
       "102  Dog Man: Fetch-22: From the Creator of Captain...  Dav Pilkey   \n",
       "103  Dog Man: For Whom the Ball Rolls: From the Cre...  Dav Pilkey   \n",
       "104  Dog Man: Lord of the Fleas: From the Creator o...  Dav Pilkey   \n",
       "133                          Oh, the Places You'll Go!   Dr. Seuss   \n",
       "167                        The Very Hungry Caterpillar  Eric Carle   \n",
       "164                        The Very Hungry Caterpillar  Eric Carle   \n",
       "\n",
       "     User Rating  \n",
       "98           4.9  \n",
       "99           4.9  \n",
       "100          4.9  \n",
       "101          4.9  \n",
       "102          4.9  \n",
       "103          4.9  \n",
       "104          4.9  \n",
       "133          4.9  \n",
       "167          4.9  \n",
       "164          4.9  "
      ]
     },
     "execution_count": 40,
     "metadata": {},
     "output_type": "execute_result"
    }
   ],
   "source": [
    "df_fiction = df[df['Genre']==\"Fiction\"].sort_values(by = \"User Rating\", ascending = False)\n",
    "df_fiction10 = df_fiction[[\"Name\", \"Author\", \"User Rating\"]].head(10)\n",
    "df_fiction10.sort_values(by = \"Name\")"
   ]
  },
  {
   "cell_type": "markdown",
   "metadata": {},
   "source": [
    "### Q3. Which author managed to get the highest amount of reviews during the given period. What is the period?"
   ]
  },
  {
   "cell_type": "code",
   "execution_count": 22,
   "metadata": {},
   "outputs": [],
   "source": [
    "df_rev = df.groupby(\"Author\").agg(total_reviews = (\"Reviews\", \"sum\")).sort_values(by = \"total_reviews\", ascending = False)"
   ]
  },
  {
   "cell_type": "markdown",
   "metadata": {},
   "source": [
    "Authors with most reviews:"
   ]
  },
  {
   "cell_type": "code",
   "execution_count": 99,
   "metadata": {},
   "outputs": [
    {
     "data": {
      "text/html": [
       "<div>\n",
       "<style scoped>\n",
       "    .dataframe tbody tr th:only-of-type {\n",
       "        vertical-align: middle;\n",
       "    }\n",
       "\n",
       "    .dataframe tbody tr th {\n",
       "        vertical-align: top;\n",
       "    }\n",
       "\n",
       "    .dataframe thead th {\n",
       "        text-align: right;\n",
       "    }\n",
       "</style>\n",
       "<table border=\"1\" class=\"dataframe\">\n",
       "  <thead>\n",
       "    <tr style=\"text-align: right;\">\n",
       "      <th></th>\n",
       "      <th>total_reviews</th>\n",
       "    </tr>\n",
       "    <tr>\n",
       "      <th>Author</th>\n",
       "      <th></th>\n",
       "    </tr>\n",
       "  </thead>\n",
       "  <tbody>\n",
       "    <tr>\n",
       "      <th>Suzanne Collins</th>\n",
       "      <td>278329</td>\n",
       "    </tr>\n",
       "  </tbody>\n",
       "</table>\n",
       "</div>"
      ],
      "text/plain": [
       "                 total_reviews\n",
       "Author                        \n",
       "Suzanne Collins         278329"
      ]
     },
     "execution_count": 99,
     "metadata": {},
     "output_type": "execute_result"
    }
   ],
   "source": [
    "top_author = df_rev.head(1)\n",
    "top_author"
   ]
  },
  {
   "cell_type": "code",
   "execution_count": 48,
   "metadata": {},
   "outputs": [
    {
     "name": "stdout",
     "output_type": "stream",
     "text": [
      "Dataset contains data about this author from 2010 to 2012.\n"
     ]
    }
   ],
   "source": [
    "start = df[df['Author'] == 'Suzanne Collins']['Year'].min()\n",
    "end = df[df['Author'] == 'Suzanne Collins']['Year'].max()\n",
    "\n",
    "print(f\"Dataset contains data about this author from {start} to {end}.\")"
   ]
  },
  {
   "cell_type": "markdown",
   "metadata": {},
   "source": [
    "### Q4. The best selling books of the decade"
   ]
  },
  {
   "cell_type": "code",
   "execution_count": 49,
   "metadata": {},
   "outputs": [
    {
     "data": {
      "text/html": [
       "<div>\n",
       "<style scoped>\n",
       "    .dataframe tbody tr th:only-of-type {\n",
       "        vertical-align: middle;\n",
       "    }\n",
       "\n",
       "    .dataframe tbody tr th {\n",
       "        vertical-align: top;\n",
       "    }\n",
       "\n",
       "    .dataframe thead th {\n",
       "        text-align: right;\n",
       "    }\n",
       "</style>\n",
       "<table border=\"1\" class=\"dataframe\">\n",
       "  <thead>\n",
       "    <tr style=\"text-align: right;\">\n",
       "      <th></th>\n",
       "      <th>Name</th>\n",
       "      <th>Author</th>\n",
       "      <th>User Rating</th>\n",
       "      <th>Reviews</th>\n",
       "      <th>Price</th>\n",
       "      <th>Year</th>\n",
       "      <th>Genre</th>\n",
       "    </tr>\n",
       "  </thead>\n",
       "  <tbody>\n",
       "    <tr>\n",
       "      <th>0</th>\n",
       "      <td>Cutting for Stone</td>\n",
       "      <td>Abraham Verghese</td>\n",
       "      <td>4.6</td>\n",
       "      <td>4866</td>\n",
       "      <td>11</td>\n",
       "      <td>2010</td>\n",
       "      <td>Fiction</td>\n",
       "    </tr>\n",
       "    <tr>\n",
       "      <th>1</th>\n",
       "      <td>Cutting for Stone</td>\n",
       "      <td>Abraham Verghese</td>\n",
       "      <td>4.6</td>\n",
       "      <td>4866</td>\n",
       "      <td>11</td>\n",
       "      <td>2011</td>\n",
       "      <td>Fiction</td>\n",
       "    </tr>\n",
       "    <tr>\n",
       "      <th>2</th>\n",
       "      <td>Milk and Vine: Inspirational Quotes From Classic Vines</td>\n",
       "      <td>Adam Gasiewski</td>\n",
       "      <td>4.4</td>\n",
       "      <td>3113</td>\n",
       "      <td>6</td>\n",
       "      <td>2017</td>\n",
       "      <td>Non Fiction</td>\n",
       "    </tr>\n",
       "    <tr>\n",
       "      <th>3</th>\n",
       "      <td>Go the F**k to Sleep</td>\n",
       "      <td>Adam Mansbach</td>\n",
       "      <td>4.8</td>\n",
       "      <td>9568</td>\n",
       "      <td>9</td>\n",
       "      <td>2011</td>\n",
       "      <td>Fiction</td>\n",
       "    </tr>\n",
       "    <tr>\n",
       "      <th>4</th>\n",
       "      <td>What Should Danny Do? (The Power to Choose Series)</td>\n",
       "      <td>Adir Levy</td>\n",
       "      <td>4.8</td>\n",
       "      <td>8170</td>\n",
       "      <td>13</td>\n",
       "      <td>2019</td>\n",
       "      <td>Fiction</td>\n",
       "    </tr>\n",
       "  </tbody>\n",
       "</table>\n",
       "</div>"
      ],
      "text/plain": [
       "                                                     Name            Author  \\\n",
       "0                                       Cutting for Stone  Abraham Verghese   \n",
       "1                                       Cutting for Stone  Abraham Verghese   \n",
       "2  Milk and Vine: Inspirational Quotes From Classic Vines    Adam Gasiewski   \n",
       "3                                    Go the F**k to Sleep     Adam Mansbach   \n",
       "4      What Should Danny Do? (The Power to Choose Series)         Adir Levy   \n",
       "\n",
       "   User Rating  Reviews  Price  Year        Genre  \n",
       "0          4.6     4866     11  2010      Fiction  \n",
       "1          4.6     4866     11  2011      Fiction  \n",
       "2          4.4     3113      6  2017  Non Fiction  \n",
       "3          4.8     9568      9  2011      Fiction  \n",
       "4          4.8     8170     13  2019      Fiction  "
      ]
     },
     "execution_count": 49,
     "metadata": {},
     "output_type": "execute_result"
    }
   ],
   "source": [
    "df.head()"
   ]
  },
  {
   "cell_type": "markdown",
   "metadata": {},
   "source": [
    "The dataset does not include any data about book sales, as a result, *we need to define, what makes book a bestseller*?\n",
    "<br>To start with, in this case the **rating** of the book will be considered as the key factor in definition of best seller. The second important feature will be the **number of reviews** the book has: the rating will be considered to be more reliable if the book contains more reviews. Lastly, it is important to include **price** factor in evaluation, because, it is not likely that a lot of people would by a book if it costs a fortune even if it rated as the best book in the world."
   ]
  },
  {
   "cell_type": "code",
   "execution_count": 61,
   "metadata": {},
   "outputs": [
    {
     "data": {
      "text/plain": [
       "count    351.000000\n",
       "mean      13.076923\n",
       "std       10.050860\n",
       "min        0.000000\n",
       "25%        8.000000\n",
       "50%       12.000000\n",
       "75%       16.000000\n",
       "max      105.000000\n",
       "Name: Price, dtype: float64"
      ]
     },
     "execution_count": 61,
     "metadata": {},
     "output_type": "execute_result"
    }
   ],
   "source": [
    "# explorting the price feature\n",
    "df[\"Price\"].describe()"
   ]
  },
  {
   "cell_type": "markdown",
   "metadata": {},
   "source": [
    "Some books have a the price of 0, which is not likely to be true, as a result, I have decided not to include these into results. I have decided only include prices above first quartile into consideration in order to avoid outliers in prices as it is not the most important factor in my analysis."
   ]
  },
  {
   "cell_type": "code",
   "execution_count": 77,
   "metadata": {},
   "outputs": [],
   "source": [
    "df_bs = df[df['Price'] >= 8]"
   ]
  },
  {
   "cell_type": "markdown",
   "metadata": {},
   "source": [
    "I will consider only top100 best rated book with most reviews:"
   ]
  },
  {
   "cell_type": "code",
   "execution_count": 97,
   "metadata": {},
   "outputs": [],
   "source": [
    "df_bs_100 = df_bs.sort_values(by = [\"User Rating\", \"Reviews\"], ascending = [False, False]).head(100)"
   ]
  },
  {
   "cell_type": "code",
   "execution_count": 98,
   "metadata": {},
   "outputs": [
    {
     "data": {
      "text/html": [
       "<div>\n",
       "<style scoped>\n",
       "    .dataframe tbody tr th:only-of-type {\n",
       "        vertical-align: middle;\n",
       "    }\n",
       "\n",
       "    .dataframe tbody tr th {\n",
       "        vertical-align: top;\n",
       "    }\n",
       "\n",
       "    .dataframe thead th {\n",
       "        text-align: right;\n",
       "    }\n",
       "</style>\n",
       "<table border=\"1\" class=\"dataframe\">\n",
       "  <thead>\n",
       "    <tr style=\"text-align: right;\">\n",
       "      <th></th>\n",
       "      <th>Name</th>\n",
       "      <th>Author</th>\n",
       "      <th>User Rating</th>\n",
       "      <th>Reviews</th>\n",
       "      <th>Price</th>\n",
       "      <th>Year</th>\n",
       "      <th>Genre</th>\n",
       "    </tr>\n",
       "  </thead>\n",
       "  <tbody>\n",
       "    <tr>\n",
       "      <th>131</th>\n",
       "      <td>Oh, the Places You'll Go!</td>\n",
       "      <td>Dr. Seuss</td>\n",
       "      <td>4.9</td>\n",
       "      <td>21834</td>\n",
       "      <td>8</td>\n",
       "      <td>2012</td>\n",
       "      <td>Fiction</td>\n",
       "    </tr>\n",
       "    <tr>\n",
       "      <th>267</th>\n",
       "      <td>You Are a Badass: How to Stop Doubting Your Greatness and Start Living an Awesome Life</td>\n",
       "      <td>Jen Sincero</td>\n",
       "      <td>4.7</td>\n",
       "      <td>14331</td>\n",
       "      <td>8</td>\n",
       "      <td>2016</td>\n",
       "      <td>Non Fiction</td>\n",
       "    </tr>\n",
       "    <tr>\n",
       "      <th>278</th>\n",
       "      <td>10-Day Green Smoothie Cleanse</td>\n",
       "      <td>JJ Smith</td>\n",
       "      <td>4.7</td>\n",
       "      <td>17350</td>\n",
       "      <td>8</td>\n",
       "      <td>2016</td>\n",
       "      <td>Non Fiction</td>\n",
       "    </tr>\n",
       "    <tr>\n",
       "      <th>439</th>\n",
       "      <td>Milk and Honey</td>\n",
       "      <td>Rupi Kaur</td>\n",
       "      <td>4.7</td>\n",
       "      <td>17739</td>\n",
       "      <td>8</td>\n",
       "      <td>2016</td>\n",
       "      <td>Non Fiction</td>\n",
       "    </tr>\n",
       "    <tr>\n",
       "      <th>503</th>\n",
       "      <td>The Hunger Games (Book 1)</td>\n",
       "      <td>Suzanne Collins</td>\n",
       "      <td>4.7</td>\n",
       "      <td>32122</td>\n",
       "      <td>8</td>\n",
       "      <td>2011</td>\n",
       "      <td>Fiction</td>\n",
       "    </tr>\n",
       "    <tr>\n",
       "      <th>34</th>\n",
       "      <td>Kitchen Confidential Updated Edition: Adventures in the Culinary Underbelly (P.S.)</td>\n",
       "      <td>Anthony Bourdain</td>\n",
       "      <td>4.8</td>\n",
       "      <td>2507</td>\n",
       "      <td>8</td>\n",
       "      <td>2018</td>\n",
       "      <td>Non Fiction</td>\n",
       "    </tr>\n",
       "    <tr>\n",
       "      <th>39</th>\n",
       "      <td>The Book with No Pictures</td>\n",
       "      <td>B. J. Novak</td>\n",
       "      <td>4.8</td>\n",
       "      <td>8081</td>\n",
       "      <td>8</td>\n",
       "      <td>2014</td>\n",
       "      <td>Fiction</td>\n",
       "    </tr>\n",
       "    <tr>\n",
       "      <th>196</th>\n",
       "      <td>The 5 Love Languages: The Secret to Love that Lasts</td>\n",
       "      <td>Gary Chapman</td>\n",
       "      <td>4.8</td>\n",
       "      <td>25554</td>\n",
       "      <td>8</td>\n",
       "      <td>2015</td>\n",
       "      <td>Non Fiction</td>\n",
       "    </tr>\n",
       "    <tr>\n",
       "      <th>99</th>\n",
       "      <td>Dog Man: A Tale of Two Kitties: From the Creator of Captain Underpants (Dog Man #3)</td>\n",
       "      <td>Dav Pilkey</td>\n",
       "      <td>4.9</td>\n",
       "      <td>4786</td>\n",
       "      <td>8</td>\n",
       "      <td>2017</td>\n",
       "      <td>Fiction</td>\n",
       "    </tr>\n",
       "    <tr>\n",
       "      <th>263</th>\n",
       "      <td>The Meltdown (Diary of a Wimpy Kid Book 13)</td>\n",
       "      <td>Jeff Kinney</td>\n",
       "      <td>4.8</td>\n",
       "      <td>5898</td>\n",
       "      <td>8</td>\n",
       "      <td>2018</td>\n",
       "      <td>Fiction</td>\n",
       "    </tr>\n",
       "  </tbody>\n",
       "</table>\n",
       "</div>"
      ],
      "text/plain": [
       "                                                                                       Name  \\\n",
       "131                                                               Oh, the Places You'll Go!   \n",
       "267  You Are a Badass: How to Stop Doubting Your Greatness and Start Living an Awesome Life   \n",
       "278                                                           10-Day Green Smoothie Cleanse   \n",
       "439                                                                          Milk and Honey   \n",
       "503                                                               The Hunger Games (Book 1)   \n",
       "34       Kitchen Confidential Updated Edition: Adventures in the Culinary Underbelly (P.S.)   \n",
       "39                                                                The Book with No Pictures   \n",
       "196                                     The 5 Love Languages: The Secret to Love that Lasts   \n",
       "99      Dog Man: A Tale of Two Kitties: From the Creator of Captain Underpants (Dog Man #3)   \n",
       "263                                             The Meltdown (Diary of a Wimpy Kid Book 13)   \n",
       "\n",
       "               Author  User Rating  Reviews  Price  Year        Genre  \n",
       "131         Dr. Seuss          4.9    21834      8  2012      Fiction  \n",
       "267       Jen Sincero          4.7    14331      8  2016  Non Fiction  \n",
       "278          JJ Smith          4.7    17350      8  2016  Non Fiction  \n",
       "439         Rupi Kaur          4.7    17739      8  2016  Non Fiction  \n",
       "503   Suzanne Collins          4.7    32122      8  2011      Fiction  \n",
       "34   Anthony Bourdain          4.8     2507      8  2018  Non Fiction  \n",
       "39        B. J. Novak          4.8     8081      8  2014      Fiction  \n",
       "196      Gary Chapman          4.8    25554      8  2015  Non Fiction  \n",
       "99         Dav Pilkey          4.9     4786      8  2017      Fiction  \n",
       "263       Jeff Kinney          4.8     5898      8  2018      Fiction  "
      ]
     },
     "execution_count": 98,
     "metadata": {},
     "output_type": "execute_result"
    }
   ],
   "source": [
    "df_bs_100.sort_values(by = \"Price\", ascending = True).head(10)"
   ]
  },
  {
   "cell_type": "markdown",
   "metadata": {},
   "source": [
    "### Q5. Whats the mean User Rating of Jeff Kinney best sellers?"
   ]
  },
  {
   "cell_type": "code",
   "execution_count": 82,
   "metadata": {},
   "outputs": [
    {
     "data": {
      "text/plain": [
       "4.81"
      ]
     },
     "execution_count": 82,
     "metadata": {},
     "output_type": "execute_result"
    }
   ],
   "source": [
    "round(df_bs_100[df_bs_100[\"Author\"] == \"Jeff Kinney\"][\"User Rating\"].mean(), 2)"
   ]
  },
  {
   "cell_type": "markdown",
   "metadata": {},
   "source": [
    "### Q6. Top authors based on No. of best sellers written by them"
   ]
  },
  {
   "cell_type": "code",
   "execution_count": 87,
   "metadata": {},
   "outputs": [
    {
     "data": {
      "text/html": [
       "<div>\n",
       "<style scoped>\n",
       "    .dataframe tbody tr th:only-of-type {\n",
       "        vertical-align: middle;\n",
       "    }\n",
       "\n",
       "    .dataframe tbody tr th {\n",
       "        vertical-align: top;\n",
       "    }\n",
       "\n",
       "    .dataframe thead th {\n",
       "        text-align: right;\n",
       "    }\n",
       "</style>\n",
       "<table border=\"1\" class=\"dataframe\">\n",
       "  <thead>\n",
       "    <tr style=\"text-align: right;\">\n",
       "      <th></th>\n",
       "      <th>num_bs</th>\n",
       "    </tr>\n",
       "    <tr>\n",
       "      <th>Author</th>\n",
       "      <th></th>\n",
       "    </tr>\n",
       "  </thead>\n",
       "  <tbody>\n",
       "    <tr>\n",
       "      <th>Jeff Kinney</th>\n",
       "      <td>7</td>\n",
       "    </tr>\n",
       "    <tr>\n",
       "      <th>Rick Riordan</th>\n",
       "      <td>6</td>\n",
       "    </tr>\n",
       "    <tr>\n",
       "      <th>Suzanne Collins</th>\n",
       "      <td>4</td>\n",
       "    </tr>\n",
       "    <tr>\n",
       "      <th>Ree Drummond</th>\n",
       "      <td>3</td>\n",
       "    </tr>\n",
       "    <tr>\n",
       "      <th>Dav Pilkey</th>\n",
       "      <td>3</td>\n",
       "    </tr>\n",
       "  </tbody>\n",
       "</table>\n",
       "</div>"
      ],
      "text/plain": [
       "                 num_bs\n",
       "Author                 \n",
       "Jeff Kinney           7\n",
       "Rick Riordan          6\n",
       "Suzanne Collins       4\n",
       "Ree Drummond          3\n",
       "Dav Pilkey            3"
      ]
     },
     "execution_count": 87,
     "metadata": {},
     "output_type": "execute_result"
    }
   ],
   "source": [
    "df_bs_100.groupby(\"Author\").agg(num_bs = (\"Name\", \"count\")).sort_values(by = \"num_bs\", ascending = False).head()"
   ]
  },
  {
   "cell_type": "markdown",
   "metadata": {},
   "source": [
    "### Q7. The top 15 best selling books in 2018"
   ]
  },
  {
   "cell_type": "code",
   "execution_count": 95,
   "metadata": {},
   "outputs": [],
   "source": [
    "df_bs_2018 = df_bs[df_bs['Year'] == 2018].sort_values(by = [\"User Rating\", \"Reviews\"], ascending = [False, False])"
   ]
  },
  {
   "cell_type": "code",
   "execution_count": 106,
   "metadata": {},
   "outputs": [
    {
     "data": {
      "text/html": [
       "<div>\n",
       "<style scoped>\n",
       "    .dataframe tbody tr th:only-of-type {\n",
       "        vertical-align: middle;\n",
       "    }\n",
       "\n",
       "    .dataframe tbody tr th {\n",
       "        vertical-align: top;\n",
       "    }\n",
       "\n",
       "    .dataframe thead th {\n",
       "        text-align: right;\n",
       "    }\n",
       "</style>\n",
       "<table border=\"1\" class=\"dataframe\">\n",
       "  <thead>\n",
       "    <tr style=\"text-align: right;\">\n",
       "      <th></th>\n",
       "      <th>Name</th>\n",
       "      <th>Author</th>\n",
       "      <th>User Rating</th>\n",
       "      <th>Reviews</th>\n",
       "    </tr>\n",
       "  </thead>\n",
       "  <tbody>\n",
       "    <tr>\n",
       "      <th>308</th>\n",
       "      <td>Crazy Rich Asians (Crazy Rich Asians Trilogy)</td>\n",
       "      <td>Kevin Kwan</td>\n",
       "      <td>4.3</td>\n",
       "      <td>6143</td>\n",
       "    </tr>\n",
       "    <tr>\n",
       "      <th>34</th>\n",
       "      <td>Kitchen Confidential Updated Edition: Adventures in the Culinary Underbelly (P.S.)</td>\n",
       "      <td>Anthony Bourdain</td>\n",
       "      <td>4.8</td>\n",
       "      <td>2507</td>\n",
       "    </tr>\n",
       "    <tr>\n",
       "      <th>263</th>\n",
       "      <td>The Meltdown (Diary of a Wimpy Kid Book 13)</td>\n",
       "      <td>Jeff Kinney</td>\n",
       "      <td>4.8</td>\n",
       "      <td>5898</td>\n",
       "    </tr>\n",
       "    <tr>\n",
       "      <th>29</th>\n",
       "      <td>The Hate U Give</td>\n",
       "      <td>Angie Thomas</td>\n",
       "      <td>4.8</td>\n",
       "      <td>9947</td>\n",
       "    </tr>\n",
       "    <tr>\n",
       "      <th>358</th>\n",
       "      <td>Becoming</td>\n",
       "      <td>Michelle Obama</td>\n",
       "      <td>4.8</td>\n",
       "      <td>61133</td>\n",
       "    </tr>\n",
       "    <tr>\n",
       "      <th>64</th>\n",
       "      <td>Little Fires Everywhere</td>\n",
       "      <td>Celeste Ng</td>\n",
       "      <td>4.5</td>\n",
       "      <td>25706</td>\n",
       "    </tr>\n",
       "    <tr>\n",
       "      <th>518</th>\n",
       "      <td>Whose Boat Is This Boat?: Comments That Don't Help in the Aftermath of a Hurricane</td>\n",
       "      <td>The Staff of The Late Show with¬Ö</td>\n",
       "      <td>4.6</td>\n",
       "      <td>6669</td>\n",
       "    </tr>\n",
       "    <tr>\n",
       "      <th>391</th>\n",
       "      <td>Girl, Wash Your Face: Stop Believing the Lies About Who You Are So You Can Become Who You Were M...</td>\n",
       "      <td>Rachel Hollis</td>\n",
       "      <td>4.6</td>\n",
       "      <td>22288</td>\n",
       "    </tr>\n",
       "    <tr>\n",
       "      <th>273</th>\n",
       "      <td>Last Week Tonight with John Oliver Presents A Day in the Life of Marlon Bundo (Better Bundo Book...</td>\n",
       "      <td>Jill Twiss</td>\n",
       "      <td>4.9</td>\n",
       "      <td>11881</td>\n",
       "    </tr>\n",
       "    <tr>\n",
       "      <th>299</th>\n",
       "      <td>12 Rules for Life: An Antidote to Chaos</td>\n",
       "      <td>Jordan B. Peterson</td>\n",
       "      <td>4.7</td>\n",
       "      <td>18979</td>\n",
       "    </tr>\n",
       "  </tbody>\n",
       "</table>\n",
       "</div>"
      ],
      "text/plain": [
       "                                                                                                    Name  \\\n",
       "308                                                        Crazy Rich Asians (Crazy Rich Asians Trilogy)   \n",
       "34                    Kitchen Confidential Updated Edition: Adventures in the Culinary Underbelly (P.S.)   \n",
       "263                                                          The Meltdown (Diary of a Wimpy Kid Book 13)   \n",
       "29                                                                                       The Hate U Give   \n",
       "358                                                                                             Becoming   \n",
       "64                                                                               Little Fires Everywhere   \n",
       "518                   Whose Boat Is This Boat?: Comments That Don't Help in the Aftermath of a Hurricane   \n",
       "391  Girl, Wash Your Face: Stop Believing the Lies About Who You Are So You Can Become Who You Were M...   \n",
       "273  Last Week Tonight with John Oliver Presents A Day in the Life of Marlon Bundo (Better Bundo Book...   \n",
       "299                                                              12 Rules for Life: An Antidote to Chaos   \n",
       "\n",
       "                                Author  User Rating  Reviews  \n",
       "308                         Kevin Kwan          4.3     6143  \n",
       "34                    Anthony Bourdain          4.8     2507  \n",
       "263                        Jeff Kinney          4.8     5898  \n",
       "29                        Angie Thomas          4.8     9947  \n",
       "358                     Michelle Obama          4.8    61133  \n",
       "64                          Celeste Ng          4.5    25706  \n",
       "518  The Staff of The Late Show with¬Ö          4.6     6669  \n",
       "391                      Rachel Hollis          4.6    22288  \n",
       "273                         Jill Twiss          4.9    11881  \n",
       "299                 Jordan B. Peterson          4.7    18979  "
      ]
     },
     "execution_count": 106,
     "metadata": {},
     "output_type": "execute_result"
    }
   ],
   "source": [
    "df_bs_2018.sort_values(by = \"Price\", ascending = True).head(10)[[\"Name\", \"Author\", \"User Rating\", \"Reviews\"]]"
   ]
  },
  {
   "cell_type": "markdown",
   "metadata": {},
   "source": [
    "### Q8."
   ]
  },
  {
   "cell_type": "code",
   "execution_count": 107,
   "metadata": {},
   "outputs": [
    {
     "data": {
      "text/html": [
       "<div>\n",
       "<style scoped>\n",
       "    .dataframe tbody tr th:only-of-type {\n",
       "        vertical-align: middle;\n",
       "    }\n",
       "\n",
       "    .dataframe tbody tr th {\n",
       "        vertical-align: top;\n",
       "    }\n",
       "\n",
       "    .dataframe thead th {\n",
       "        text-align: right;\n",
       "    }\n",
       "</style>\n",
       "<table border=\"1\" class=\"dataframe\">\n",
       "  <thead>\n",
       "    <tr style=\"text-align: right;\">\n",
       "      <th></th>\n",
       "      <th>Name</th>\n",
       "      <th>Author</th>\n",
       "      <th>User Rating</th>\n",
       "      <th>Reviews</th>\n",
       "      <th>Price</th>\n",
       "      <th>Year</th>\n",
       "      <th>Genre</th>\n",
       "      <th>Rating_to_max</th>\n",
       "    </tr>\n",
       "  </thead>\n",
       "  <tbody>\n",
       "    <tr>\n",
       "      <th>0</th>\n",
       "      <td>Cutting for Stone</td>\n",
       "      <td>Abraham Verghese</td>\n",
       "      <td>4.6</td>\n",
       "      <td>4866</td>\n",
       "      <td>11</td>\n",
       "      <td>2010</td>\n",
       "      <td>Fiction</td>\n",
       "      <td>0.92</td>\n",
       "    </tr>\n",
       "    <tr>\n",
       "      <th>2</th>\n",
       "      <td>Milk and Vine: Inspirational Quotes From Classic Vines</td>\n",
       "      <td>Adam Gasiewski</td>\n",
       "      <td>4.4</td>\n",
       "      <td>3113</td>\n",
       "      <td>6</td>\n",
       "      <td>2017</td>\n",
       "      <td>Non Fiction</td>\n",
       "      <td>0.88</td>\n",
       "    </tr>\n",
       "    <tr>\n",
       "      <th>3</th>\n",
       "      <td>Go the F**k to Sleep</td>\n",
       "      <td>Adam Mansbach</td>\n",
       "      <td>4.8</td>\n",
       "      <td>9568</td>\n",
       "      <td>9</td>\n",
       "      <td>2011</td>\n",
       "      <td>Fiction</td>\n",
       "      <td>0.96</td>\n",
       "    </tr>\n",
       "    <tr>\n",
       "      <th>4</th>\n",
       "      <td>What Should Danny Do? (The Power to Choose Series)</td>\n",
       "      <td>Adir Levy</td>\n",
       "      <td>4.8</td>\n",
       "      <td>8170</td>\n",
       "      <td>13</td>\n",
       "      <td>2019</td>\n",
       "      <td>Fiction</td>\n",
       "      <td>0.96</td>\n",
       "    </tr>\n",
       "    <tr>\n",
       "      <th>5</th>\n",
       "      <td>Make Your Bed: Little Things That Can Change Your Life...And Maybe the World</td>\n",
       "      <td>Admiral William H. McRaven</td>\n",
       "      <td>4.7</td>\n",
       "      <td>10199</td>\n",
       "      <td>11</td>\n",
       "      <td>2017</td>\n",
       "      <td>Non Fiction</td>\n",
       "      <td>0.94</td>\n",
       "    </tr>\n",
       "  </tbody>\n",
       "</table>\n",
       "</div>"
      ],
      "text/plain": [
       "                                                                           Name  \\\n",
       "0                                                             Cutting for Stone   \n",
       "2                        Milk and Vine: Inspirational Quotes From Classic Vines   \n",
       "3                                                          Go the F**k to Sleep   \n",
       "4                            What Should Danny Do? (The Power to Choose Series)   \n",
       "5  Make Your Bed: Little Things That Can Change Your Life...And Maybe the World   \n",
       "\n",
       "                       Author  User Rating  Reviews  Price  Year        Genre  \\\n",
       "0            Abraham Verghese          4.6     4866     11  2010      Fiction   \n",
       "2              Adam Gasiewski          4.4     3113      6  2017  Non Fiction   \n",
       "3               Adam Mansbach          4.8     9568      9  2011      Fiction   \n",
       "4                   Adir Levy          4.8     8170     13  2019      Fiction   \n",
       "5  Admiral William H. McRaven          4.7    10199     11  2017  Non Fiction   \n",
       "\n",
       "   Rating_to_max  \n",
       "0           0.92  \n",
       "2           0.88  \n",
       "3           0.96  \n",
       "4           0.96  \n",
       "5           0.94  "
      ]
     },
     "execution_count": 107,
     "metadata": {},
     "output_type": "execute_result"
    }
   ],
   "source": [
    "max_score = 5.0\n",
    "\n",
    "df['Rating_to_max'] = df[\"User Rating\"] / max_score\n",
    "\n",
    "df.head()"
   ]
  },
  {
   "cell_type": "markdown",
   "metadata": {},
   "source": [
    "### Q9."
   ]
  },
  {
   "cell_type": "code",
   "execution_count": 108,
   "metadata": {},
   "outputs": [
    {
     "data": {
      "text/plain": [
       "array(['Fiction', 'Non Fiction'], dtype=object)"
      ]
     },
     "execution_count": 108,
     "metadata": {},
     "output_type": "execute_result"
    }
   ],
   "source": [
    "df[\"Genre\"].unique()"
   ]
  },
  {
   "cell_type": "code",
   "execution_count": 124,
   "metadata": {},
   "outputs": [
    {
     "data": {
      "text/html": [
       "<div>\n",
       "<style scoped>\n",
       "    .dataframe tbody tr th:only-of-type {\n",
       "        vertical-align: middle;\n",
       "    }\n",
       "\n",
       "    .dataframe tbody tr th {\n",
       "        vertical-align: top;\n",
       "    }\n",
       "\n",
       "    .dataframe thead th {\n",
       "        text-align: right;\n",
       "    }\n",
       "</style>\n",
       "<table border=\"1\" class=\"dataframe\">\n",
       "  <thead>\n",
       "    <tr style=\"text-align: right;\">\n",
       "      <th></th>\n",
       "      <th>Year</th>\n",
       "      <th>Reviews</th>\n",
       "    </tr>\n",
       "  </thead>\n",
       "  <tbody>\n",
       "    <tr>\n",
       "      <th>0</th>\n",
       "      <td>2010</td>\n",
       "      <td>4866</td>\n",
       "    </tr>\n",
       "    <tr>\n",
       "      <th>3</th>\n",
       "      <td>2011</td>\n",
       "      <td>9568</td>\n",
       "    </tr>\n",
       "    <tr>\n",
       "      <th>4</th>\n",
       "      <td>2019</td>\n",
       "      <td>8170</td>\n",
       "    </tr>\n",
       "    <tr>\n",
       "      <th>7</th>\n",
       "      <td>2009</td>\n",
       "      <td>3829</td>\n",
       "    </tr>\n",
       "    <tr>\n",
       "      <th>8</th>\n",
       "      <td>2019</td>\n",
       "      <td>27536</td>\n",
       "    </tr>\n",
       "  </tbody>\n",
       "</table>\n",
       "</div>"
      ],
      "text/plain": [
       "   Year  Reviews\n",
       "0  2010     4866\n",
       "3  2011     9568\n",
       "4  2019     8170\n",
       "7  2009     3829\n",
       "8  2019    27536"
      ]
     },
     "execution_count": 124,
     "metadata": {},
     "output_type": "execute_result"
    }
   ],
   "source": [
    "fb = df[df['Genre'] == \"Fiction\"][[\"Year\", \"Reviews\"]]\n",
    "fb.head()"
   ]
  },
  {
   "cell_type": "code",
   "execution_count": 125,
   "metadata": {},
   "outputs": [],
   "source": [
    "fb_grouped = fb.groupby(\"Year\").agg(reviews_per_year = (\"Reviews\", \"sum\"))"
   ]
  },
  {
   "cell_type": "code",
   "execution_count": 141,
   "metadata": {},
   "outputs": [
    {
     "data": {
      "image/png": "[encoded data removed]",
      "text/plain": [
       "<Figure size 1152x576 with 1 Axes>"
      ]
     },
     "metadata": {},
     "output_type": "display_data"
    }
   ],
   "source": [
    "fig, ax = plt.subplots(figsize=(16, 8))\n",
    "sns.barplot(x=fb_grouped.index, y=fb_grouped[\"reviews_per_year\"], color=\"#115396\")\n",
    "plt.xlabel(\"YEAR\", size=15, labelpad=20, fontweight=\"bold\", fontname=\"Cambria\")\n",
    "plt.ylabel(\"NUMBER OF REVIEWS\", size=15, labelpad=20, fontweight=\"bold\", fontname=\"Cambria\")\n",
    "plt.title(\"NUMBER OF REVIEWS OF FICTION BOOKS\", size=20, weight=\"bold\", fontname=\"Cambria\")\n",
    "plt.yticks(fontweight=\"bold\")\n",
    "plt.xticks(fontweight=\"bold\")\n",
    "\n",
    "def bar_values(ax):\n",
    "    \"\"\"presenting bar value on top\"\"\"\n",
    "    for p in ax.patches:\n",
    "        _x = p.get_x() + p.get_width() / 2\n",
    "        _y = p.get_y() + p.get_height()\n",
    "        value = f\"{int(p.get_height())}\"\n",
    "        ax.text(\n",
    "            _x,\n",
    "            _y,\n",
    "            value,\n",
    "            verticalalignment=\"bottom\",\n",
    "            ha=\"center\",\n",
    "            fontsize=12,\n",
    "            fontweight=\"semibold\",\n",
    "        )\n",
    "\n",
    "\n",
    "bar_values(ax);"
   ]
  },
  {
   "cell_type": "markdown",
   "metadata": {},
   "source": [
    "### BONUS"
   ]
  },
  {
   "cell_type": "markdown",
   "metadata": {},
   "source": [
    "Top 100 Fiction books with best rating and highest number of reviews, in this case price will not be included into considerations, because we want just the distribution of reviews."
   ]
  },
  {
   "cell_type": "code",
   "execution_count": 132,
   "metadata": {},
   "outputs": [
    {
     "data": {
      "text/html": [
       "<div>\n",
       "<style scoped>\n",
       "    .dataframe tbody tr th:only-of-type {\n",
       "        vertical-align: middle;\n",
       "    }\n",
       "\n",
       "    .dataframe tbody tr th {\n",
       "        vertical-align: top;\n",
       "    }\n",
       "\n",
       "    .dataframe thead th {\n",
       "        text-align: right;\n",
       "    }\n",
       "</style>\n",
       "<table border=\"1\" class=\"dataframe\">\n",
       "  <thead>\n",
       "    <tr style=\"text-align: right;\">\n",
       "      <th></th>\n",
       "      <th>Name</th>\n",
       "      <th>Author</th>\n",
       "      <th>User Rating</th>\n",
       "      <th>Reviews</th>\n",
       "      <th>Price</th>\n",
       "      <th>Year</th>\n",
       "      <th>Genre</th>\n",
       "    </tr>\n",
       "  </thead>\n",
       "  <tbody>\n",
       "    <tr>\n",
       "      <th>131</th>\n",
       "      <td>Oh, the Places You'll Go!</td>\n",
       "      <td>Dr. Seuss</td>\n",
       "      <td>4.9</td>\n",
       "      <td>21834</td>\n",
       "      <td>8</td>\n",
       "      <td>2012</td>\n",
       "      <td>Fiction</td>\n",
       "    </tr>\n",
       "    <tr>\n",
       "      <th>244</th>\n",
       "      <td>Harry Potter and the Chamber of Secrets: The Illustrated Edition (Harry Potter, Book 2)</td>\n",
       "      <td>J.K. Rowling</td>\n",
       "      <td>4.9</td>\n",
       "      <td>19622</td>\n",
       "      <td>30</td>\n",
       "      <td>2016</td>\n",
       "      <td>Fiction</td>\n",
       "    </tr>\n",
       "    <tr>\n",
       "      <th>102</th>\n",
       "      <td>Dog Man: Fetch-22: From the Creator of Captain Underpants (Dog Man #8)</td>\n",
       "      <td>Dav Pilkey</td>\n",
       "      <td>4.9</td>\n",
       "      <td>12619</td>\n",
       "      <td>8</td>\n",
       "      <td>2019</td>\n",
       "      <td>Fiction</td>\n",
       "    </tr>\n",
       "    <tr>\n",
       "      <th>273</th>\n",
       "      <td>Last Week Tonight with John Oliver Presents A Day in the Life of Marlon Bundo (Better Bundo Book...</td>\n",
       "      <td>Jill Twiss</td>\n",
       "      <td>4.9</td>\n",
       "      <td>11881</td>\n",
       "      <td>13</td>\n",
       "      <td>2018</td>\n",
       "      <td>Fiction</td>\n",
       "    </tr>\n",
       "    <tr>\n",
       "      <th>247</th>\n",
       "      <td>Harry Potter and the Sorcerer's Stone: The Illustrated Edition (Harry Potter, Book 1)</td>\n",
       "      <td>J.K. Rowling</td>\n",
       "      <td>4.9</td>\n",
       "      <td>10052</td>\n",
       "      <td>22</td>\n",
       "      <td>2016</td>\n",
       "      <td>Fiction</td>\n",
       "    </tr>\n",
       "    <tr>\n",
       "      <th>...</th>\n",
       "      <td>...</td>\n",
       "      <td>...</td>\n",
       "      <td>...</td>\n",
       "      <td>...</td>\n",
       "      <td>...</td>\n",
       "      <td>...</td>\n",
       "      <td>...</td>\n",
       "    </tr>\n",
       "    <tr>\n",
       "      <th>252</th>\n",
       "      <td>The President Is Missing: A Novel</td>\n",
       "      <td>James Patterson</td>\n",
       "      <td>4.3</td>\n",
       "      <td>10191</td>\n",
       "      <td>18</td>\n",
       "      <td>2018</td>\n",
       "      <td>Fiction</td>\n",
       "    </tr>\n",
       "    <tr>\n",
       "      <th>202</th>\n",
       "      <td>If I Stay</td>\n",
       "      <td>Gayle Forman</td>\n",
       "      <td>4.3</td>\n",
       "      <td>7153</td>\n",
       "      <td>9</td>\n",
       "      <td>2014</td>\n",
       "      <td>Fiction</td>\n",
       "    </tr>\n",
       "    <tr>\n",
       "      <th>471</th>\n",
       "      <td>Under the Dome: A Novel</td>\n",
       "      <td>Stephen King</td>\n",
       "      <td>4.3</td>\n",
       "      <td>6740</td>\n",
       "      <td>20</td>\n",
       "      <td>2009</td>\n",
       "      <td>Fiction</td>\n",
       "    </tr>\n",
       "    <tr>\n",
       "      <th>308</th>\n",
       "      <td>Crazy Rich Asians (Crazy Rich Asians Trilogy)</td>\n",
       "      <td>Kevin Kwan</td>\n",
       "      <td>4.3</td>\n",
       "      <td>6143</td>\n",
       "      <td>8</td>\n",
       "      <td>2018</td>\n",
       "      <td>Fiction</td>\n",
       "    </tr>\n",
       "    <tr>\n",
       "      <th>378</th>\n",
       "      <td>The Paris Wife: A Novel</td>\n",
       "      <td>Paula McLain</td>\n",
       "      <td>4.3</td>\n",
       "      <td>3759</td>\n",
       "      <td>16</td>\n",
       "      <td>2011</td>\n",
       "      <td>Fiction</td>\n",
       "    </tr>\n",
       "  </tbody>\n",
       "</table>\n",
       "<p>100 rows × 7 columns</p>\n",
       "</div>"
      ],
      "text/plain": [
       "                                                                                                    Name  \\\n",
       "131                                                                            Oh, the Places You'll Go!   \n",
       "244              Harry Potter and the Chamber of Secrets: The Illustrated Edition (Harry Potter, Book 2)   \n",
       "102                               Dog Man: Fetch-22: From the Creator of Captain Underpants (Dog Man #8)   \n",
       "273  Last Week Tonight with John Oliver Presents A Day in the Life of Marlon Bundo (Better Bundo Book...   \n",
       "247                Harry Potter and the Sorcerer's Stone: The Illustrated Edition (Harry Potter, Book 1)   \n",
       "..                                                                                                   ...   \n",
       "252                                                                    The President Is Missing: A Novel   \n",
       "202                                                                                            If I Stay   \n",
       "471                                                                              Under the Dome: A Novel   \n",
       "308                                                        Crazy Rich Asians (Crazy Rich Asians Trilogy)   \n",
       "378                                                                              The Paris Wife: A Novel   \n",
       "\n",
       "              Author  User Rating  Reviews  Price  Year    Genre  \n",
       "131        Dr. Seuss          4.9    21834      8  2012  Fiction  \n",
       "244     J.K. Rowling          4.9    19622     30  2016  Fiction  \n",
       "102       Dav Pilkey          4.9    12619      8  2019  Fiction  \n",
       "273       Jill Twiss          4.9    11881     13  2018  Fiction  \n",
       "247     J.K. Rowling          4.9    10052     22  2016  Fiction  \n",
       "..               ...          ...      ...    ...   ...      ...  \n",
       "252  James Patterson          4.3    10191     18  2018  Fiction  \n",
       "202     Gayle Forman          4.3     7153      9  2014  Fiction  \n",
       "471     Stephen King          4.3     6740     20  2009  Fiction  \n",
       "308       Kevin Kwan          4.3     6143      8  2018  Fiction  \n",
       "378     Paula McLain          4.3     3759     16  2011  Fiction  \n",
       "\n",
       "[100 rows x 7 columns]"
      ]
     },
     "execution_count": 132,
     "metadata": {},
     "output_type": "execute_result"
    }
   ],
   "source": [
    "fb_bs = df_bs[df_bs['Genre'] == \"Fiction\"].sort_values(by = [\"User Rating\", \"Reviews\"], ascending = [False, False]).head(100)\n",
    "fb_bs"
   ]
  },
  {
   "cell_type": "code",
   "execution_count": 140,
   "metadata": {},
   "outputs": [
    {
     "data": {
      "image/png": "[encoded data removed]",
      "text/plain": [
       "<Figure size 1152x576 with 1 Axes>"
      ]
     },
     "metadata": {},
     "output_type": "display_data"
    }
   ],
   "source": [
    "fig, ax = plt.subplots(figsize=(16, 8))\n",
    "plt.hist(fb_bs[\"Reviews\"], bins=30, density=True, color = \"#115396\")\n",
    "plt.xlabel(\"Number of distribution\", size=15, labelpad=20, fontweight=\"bold\", fontname=\"Cambria\")\n",
    "plt.ylabel(\"Density\", size=15, labelpad=20, fontweight=\"bold\", fontname=\"Cambria\")\n",
    "plt.title(\"DISTRIBUTION OF YEAR OF REVIEWS\", size=20, weight=\"bold\", fontname=\"Cambria\")\n",
    "plt.yticks(fontweight=\"bold\", fontname=\"Cambria\")\n",
    "plt.xticks(fontweight=\"bold\", fontname=\"Cambria\")\n",
    "sns.set_style(\"whitegrid\");"
   ]
  }
 ],
 "metadata": {
  "kernelspec": {
   "display_name": "Python 3",
   "language": "python",
   "name": "python3"
  },
  "language_info": {
   "codemirror_mode": {
    "name": "ipython",
    "version": 3
   },
   "file_extension": ".py",
   "mimetype": "text/x-python",
   "name": "python",
   "nbconvert_exporter": "python",
   "pygments_lexer": "ipython3",
   "version": "3.8.5"
  },
  "varInspector": {
   "cols": {
    "lenName": 16,
    "lenType": 16,
    "lenVar": 40
   },
   "kernels_config": {
    "python": {
     "delete_cmd_postfix": "",
     "delete_cmd_prefix": "del ",
     "library": "var_list.py",
     "varRefreshCmd": "print(var_dic_list())"
    },
    "r": {
     "delete_cmd_postfix": ") ",
     "delete_cmd_prefix": "rm(",
     "library": "var_list.r",
     "varRefreshCmd": "cat(var_dic_list()) "
    }
   },
   "types_to_exclude": [
    "module",
    "function",
    "builtin_function_or_method",
    "instance",
    "_Feature"
   ],
   "window_display": false
  }
 },
 "nbformat": 4,
 "nbformat_minor": 4
}
